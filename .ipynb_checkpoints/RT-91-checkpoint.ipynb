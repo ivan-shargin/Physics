{
 "cells": [
  {
   "cell_type": "code",
   "execution_count": 2,
   "id": "53e7c570",
   "metadata": {},
   "outputs": [],
   "source": [
    "import numpy as np\n",
    "import matplotlib.pyplot as plt\n",
    "import math\n",
    "from sklearn import linear_model"
   ]
  },
  {
   "cell_type": "code",
   "execution_count": 3,
   "id": "5ab61eb1",
   "metadata": {},
   "outputs": [
    {
     "data": {
      "image/png": "[encoded data removed]",
      "text/plain": [
       "<Figure size 432x288 with 1 Axes>"
      ]
     },
     "metadata": {
      "needs_background": "light"
     },
     "output_type": "display_data"
    }
   ],
   "source": [
    "U_b = np.array([373, 302, 252, 200, 156, 98, 48, 0, -50, -103, -146, -105, -203, -253, -300, -375])\n",
    "U_out = np.array([930, 860, 770, 641, 509, 325, 158, 0, 165, 341, 395, 347, 652, 777, 865, 939])\n",
    "\n",
    "fig, ax = plt.subplots() \n",
    "ax.grid()\n",
    "ax.scatter(U_b, U_out, s=5)\n",
    "plt.xlabel(\"U_b, kHz\")\n",
    "plt.ylabel(\"U_out\")\n",
    "\n",
    "# linear_regressor = linear_model.LinearRegression()\n",
    "# linear_regressor.fit(f[2:-7].reshape((f[2:-7].size, 1)), K[2:-7])\n",
    "# x0 = np.linspace(0, 2.5, 150).reshape((150, 1))\n",
    "# y0 = linear_regressor.predict(x0)\n",
    "# ax.plot(x0, y0)\n",
    "# print(linear_regressor.coef_)\n",
    "\n",
    "fig.savefig('RT-91_1')\n",
    "# linear_regressor.predict(np.array([2.6]).reshape(1, 1))\n"
   ]
  },
  {
   "cell_type": "code",
   "execution_count": null,
   "id": "5354c1ea",
   "metadata": {},
   "outputs": [],
   "source": []
  },
  {
   "cell_type": "code",
   "execution_count": null,
   "id": "5d449bd5",
   "metadata": {},
   "outputs": [],
   "source": []
  }
 ],
 "metadata": {
  "kernelspec": {
   "display_name": "Python 3.9.5 64-bit",
   "language": "python",
   "name": "python395jvsc74a57bd0e0c39c2aa61344fb27ff6fb4f3a259e590cdda2eaea03f0e509c852643cc86c0"
  },
  "language_info": {
   "codemirror_mode": {
    "name": "ipython",
    "version": 3
   },
   "file_extension": ".py",
   "mimetype": "text/x-python",
   "name": "python",
   "nbconvert_exporter": "python",
   "pygments_lexer": "ipython3",
   "version": "3.9.5"
  }
 },
 "nbformat": 4,
 "nbformat_minor": 5
}
