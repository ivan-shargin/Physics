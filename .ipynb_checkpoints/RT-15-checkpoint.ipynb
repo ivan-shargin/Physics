{
 "cells": [
  {
   "cell_type": "code",
   "execution_count": 1,
   "id": "cb00bf74",
   "metadata": {},
   "outputs": [],
   "source": [
    "import numpy as np\n",
    "import matplotlib.pyplot as plt\n",
    "import math\n",
    "from sklearn import linear_model"
   ]
  },
  {
   "cell_type": "code",
   "execution_count": 2,
   "id": "da8b21c9",
   "metadata": {},
   "outputs": [
    {
     "data": {
      "image/png": "[encoded data removed]",
      "text/plain": [
       "<Figure size 432x288 with 1 Axes>"
      ]
     },
     "metadata": {
      "needs_background": "light"
     },
     "output_type": "display_data"
    }
   ],
   "source": [
    "dph = np.linspace(-250, 250, 21)\n",
    "pd = np.array([-151, -148, -143, -134, -122, -107, -90, -69, -47, -25, 0, 24, 47, 69, 89, 107, 122, 134, 143, 149, 151])\n",
    "\n",
    "\n",
    "fig, ax = plt.subplots() \n",
    "ax.grid()\n",
    "ax.scatter(dph, pd, s=5)\n",
    "plt.xlabel(\"U_b, mV\")\n",
    "plt.ylabel(\"U_out / U_out_max\")\n",
    "\n",
    "# linear_regressor = linear_model.LinearRegression()\n",
    "# linear_regressor.fit(U_b[4:-9].reshape((U_b[4:-9].size, 1)), U_norm[4:-9])\n",
    "# x0 = np.linspace(0, 300, 150).reshape((150, 1))\n",
    "# y0 = linear_regressor.predict(x0)\n",
    "# ax.plot(x0, y0)\n",
    "# print(linear_regressor.coef_)\n",
    "\n",
    "# linear_regressor_2 = linear_model.LinearRegression()\n",
    "# linear_regressor_2.fit(U_b[-9:-3].reshape((U_b[-9:-3].size, 1)), U_norm[-9:-3])\n",
    "# x0 = np.linspace(-300, 0, 150).reshape((150, 1))\n",
    "# y0 = linear_regressor_2.predict(x0)\n",
    "# ax.plot(x0, y0)\n",
    "# print(linear_regressor_2.coef_)\n",
    "\n",
    "# print('max_lin_out:')\n",
    "# print(linear_regressor.predict(np.array([150]).reshape(-1, 1)))\n",
    "\n",
    "fig.savefig('RT-15_1_1')"
   ]
  }
 ],
 "metadata": {
  "kernelspec": {
   "display_name": "Python 3.9.5 64-bit",
   "language": "python",
   "name": "python395jvsc74a57bd0e0c39c2aa61344fb27ff6fb4f3a259e590cdda2eaea03f0e509c852643cc86c0"
  },
  "language_info": {
   "codemirror_mode": {
    "name": "ipython",
    "version": 3
   },
   "file_extension": ".py",
   "mimetype": "text/x-python",
   "name": "python",
   "nbconvert_exporter": "python",
   "pygments_lexer": "ipython3",
   "version": "3.9.5"
  }
 },
 "nbformat": 4,
 "nbformat_minor": 5
}
